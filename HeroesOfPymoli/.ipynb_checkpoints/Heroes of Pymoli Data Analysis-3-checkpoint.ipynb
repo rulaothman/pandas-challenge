{
 "cells": [
  {
   "cell_type": "markdown",
   "metadata": {},
   "source": [
    "Heroes of Pymoli Data Analysis"
   ]
  },
  {
   "cell_type": "code",
   "execution_count": 105,
   "metadata": {},
   "outputs": [],
   "source": [
    "import pandas as pd"
   ]
  },
  {
   "cell_type": "code",
   "execution_count": 106,
   "metadata": {},
   "outputs": [],
   "source": [
    "Pymoli=\"/Users/rulaothman/Desktop/pandas-challenge/04-Numpy-Pandas/Instructions/HeroesOfPymoli/purchase_data.json\""
   ]
  },
  {
   "cell_type": "code",
   "execution_count": 107,
   "metadata": {},
   "outputs": [],
   "source": [
    "currency= '${0:.2f}'"
   ]
  },
  {
   "cell_type": "code",
   "execution_count": 108,
   "metadata": {},
   "outputs": [
    {
     "data": {
      "text/html": [
       "<div>\n",
       "<style scoped>\n",
       "    .dataframe tbody tr th:only-of-type {\n",
       "        vertical-align: middle;\n",
       "    }\n",
       "\n",
       "    .dataframe tbody tr th {\n",
       "        vertical-align: top;\n",
       "    }\n",
       "\n",
       "    .dataframe thead th {\n",
       "        text-align: right;\n",
       "    }\n",
       "</style>\n",
       "<table border=\"1\" class=\"dataframe\">\n",
       "  <thead>\n",
       "    <tr style=\"text-align: right;\">\n",
       "      <th></th>\n",
       "      <th>Age</th>\n",
       "      <th>Gender</th>\n",
       "      <th>Item ID</th>\n",
       "      <th>Item Name</th>\n",
       "      <th>Price</th>\n",
       "      <th>SN</th>\n",
       "    </tr>\n",
       "  </thead>\n",
       "  <tbody>\n",
       "    <tr>\n",
       "      <th>0</th>\n",
       "      <td>38</td>\n",
       "      <td>Male</td>\n",
       "      <td>165</td>\n",
       "      <td>Bone Crushing Silver Skewer</td>\n",
       "      <td>3.37</td>\n",
       "      <td>Aelalis34</td>\n",
       "    </tr>\n",
       "    <tr>\n",
       "      <th>1</th>\n",
       "      <td>21</td>\n",
       "      <td>Male</td>\n",
       "      <td>119</td>\n",
       "      <td>Stormbringer, Dark Blade of Ending Misery</td>\n",
       "      <td>2.32</td>\n",
       "      <td>Eolo46</td>\n",
       "    </tr>\n",
       "    <tr>\n",
       "      <th>2</th>\n",
       "      <td>34</td>\n",
       "      <td>Male</td>\n",
       "      <td>174</td>\n",
       "      <td>Primitive Blade</td>\n",
       "      <td>2.46</td>\n",
       "      <td>Assastnya25</td>\n",
       "    </tr>\n",
       "    <tr>\n",
       "      <th>3</th>\n",
       "      <td>21</td>\n",
       "      <td>Male</td>\n",
       "      <td>92</td>\n",
       "      <td>Final Critic</td>\n",
       "      <td>1.36</td>\n",
       "      <td>Pheusrical25</td>\n",
       "    </tr>\n",
       "    <tr>\n",
       "      <th>4</th>\n",
       "      <td>23</td>\n",
       "      <td>Male</td>\n",
       "      <td>63</td>\n",
       "      <td>Stormfury Mace</td>\n",
       "      <td>1.27</td>\n",
       "      <td>Aela59</td>\n",
       "    </tr>\n",
       "  </tbody>\n",
       "</table>\n",
       "</div>"
      ],
      "text/plain": [
       "   Age Gender  Item ID                                  Item Name  Price  \\\n",
       "0   38   Male      165                Bone Crushing Silver Skewer   3.37   \n",
       "1   21   Male      119  Stormbringer, Dark Blade of Ending Misery   2.32   \n",
       "2   34   Male      174                            Primitive Blade   2.46   \n",
       "3   21   Male       92                               Final Critic   1.36   \n",
       "4   23   Male       63                             Stormfury Mace   1.27   \n",
       "\n",
       "             SN  \n",
       "0     Aelalis34  \n",
       "1        Eolo46  \n",
       "2   Assastnya25  \n",
       "3  Pheusrical25  \n",
       "4        Aela59  "
      ]
     },
     "execution_count": 108,
     "metadata": {},
     "output_type": "execute_result"
    }
   ],
   "source": [
    "Pymoli_df=pd.read_json(Pymoli)\n",
    "Pymoli_df.head()"
   ]
  },
  {
   "cell_type": "code",
   "execution_count": 109,
   "metadata": {},
   "outputs": [
    {
     "data": {
      "text/plain": [
       "573"
      ]
     },
     "execution_count": 109,
     "metadata": {},
     "output_type": "execute_result"
    }
   ],
   "source": [
    "#Player Count \n",
    "Player_count=Pymoli_df['SN'].value_counts().count()\n",
    "Player_count"
   ]
  },
  {
   "cell_type": "code",
   "execution_count": 191,
   "metadata": {},
   "outputs": [
    {
     "data": {
      "text/html": [
       "<style  type=\"text/css\" >\n",
       "</style>  \n",
       "<table id=\"T_48d850fa_6bc5_11e8_a85d_a45e60d6c10f\" > \n",
       "<thead>    <tr> \n",
       "        <th class=\"blank level0\" ></th> \n",
       "        <th class=\"col_heading level0 col0\" >Average Purchase Price</th> \n",
       "        <th class=\"col_heading level0 col1\" >Number of Purchases</th> \n",
       "        <th class=\"col_heading level0 col2\" >Number of Unique Items</th> \n",
       "        <th class=\"col_heading level0 col3\" >Total Revenue</th> \n",
       "    </tr></thead> \n",
       "<tbody>    <tr> \n",
       "        <th id=\"T_48d850fa_6bc5_11e8_a85d_a45e60d6c10flevel0_row0\" class=\"row_heading level0 row0\" >0</th> \n",
       "        <td id=\"T_48d850fa_6bc5_11e8_a85d_a45e60d6c10frow0_col0\" class=\"data row0 col0\" >2.93119</td> \n",
       "        <td id=\"T_48d850fa_6bc5_11e8_a85d_a45e60d6c10frow0_col1\" class=\"data row0 col1\" >780</td> \n",
       "        <td id=\"T_48d850fa_6bc5_11e8_a85d_a45e60d6c10frow0_col2\" class=\"data row0 col2\" >179</td> \n",
       "        <td id=\"T_48d850fa_6bc5_11e8_a85d_a45e60d6c10frow0_col3\" class=\"data row0 col3\" >2286.33</td> \n",
       "    </tr></tbody> \n",
       "</table> "
      ],
      "text/plain": [
       "<pandas.io.formats.style.Styler at 0x114789668>"
      ]
     },
     "execution_count": 191,
     "metadata": {},
     "output_type": "execute_result"
    }
   ],
   "source": [
    "#Purchasing Analysis \n",
    "unique = Pymoli_df['Item Name'].value_counts().count()\n",
    "unique\n",
    "count = Pymoli_df['Price'].count()\n",
    "average = Pymoli_df['Price'].mean()\n",
    "total = Pymoli_df['Price'].sum()\n",
    "\n",
    "Player_data = [{'Number of Unique Items':unique,\n",
    "                'Number of Purchases':count,\n",
    "                'Average Purchase Price':average,\n",
    "                'Total Revenue': total}]\n",
    "player_analysis = pd.DataFrame(Player_data).style.format({'Percentage': '{:.2%}'})\n",
    "player_analysis"
   ]
  },
  {
   "cell_type": "code",
   "execution_count": 192,
   "metadata": {},
   "outputs": [
    {
     "name": "stdout",
     "output_type": "stream",
     "text": [
      "<pandas.core.groupby.DataFrameGroupBy object at 0x114789d68>\n"
     ]
    }
   ],
   "source": [
    "#Gender Demographics \n",
    "Gender_df = Pymoli_df.groupby(['Gender'])\n",
    "print(Gender_df)"
   ]
  },
  {
   "cell_type": "code",
   "execution_count": 112,
   "metadata": {},
   "outputs": [
    {
     "data": {
      "text/html": [
       "<style  type=\"text/css\" >\n",
       "</style>  \n",
       "<table id=\"T_63b19798_6bb5_11e8_92f5_a45e60d6c10f\" > \n",
       "<thead>    <tr> \n",
       "        <th class=\"blank level0\" ></th> \n",
       "        <th class=\"col_heading level0 col0\" >Percentage</th> \n",
       "        <th class=\"col_heading level0 col1\" >Total Players</th> \n",
       "    </tr>    <tr> \n",
       "        <th class=\"index_name level0\" >Gender</th> \n",
       "        <th class=\"blank\" ></th> \n",
       "        <th class=\"blank\" ></th> \n",
       "    </tr></thead> \n",
       "<tbody>    <tr> \n",
       "        <th id=\"T_63b19798_6bb5_11e8_92f5_a45e60d6c10flevel0_row0\" class=\"row_heading level0 row0\" >Female</th> \n",
       "        <td id=\"T_63b19798_6bb5_11e8_92f5_a45e60d6c10frow0_col0\" class=\"data row0 col0\" >17.44%</td> \n",
       "        <td id=\"T_63b19798_6bb5_11e8_92f5_a45e60d6c10frow0_col1\" class=\"data row0 col1\" >136</td> \n",
       "    </tr>    <tr> \n",
       "        <th id=\"T_63b19798_6bb5_11e8_92f5_a45e60d6c10flevel0_row1\" class=\"row_heading level0 row1\" >Male</th> \n",
       "        <td id=\"T_63b19798_6bb5_11e8_92f5_a45e60d6c10frow1_col0\" class=\"data row1 col0\" >81.15%</td> \n",
       "        <td id=\"T_63b19798_6bb5_11e8_92f5_a45e60d6c10frow1_col1\" class=\"data row1 col1\" >633</td> \n",
       "    </tr>    <tr> \n",
       "        <th id=\"T_63b19798_6bb5_11e8_92f5_a45e60d6c10flevel0_row2\" class=\"row_heading level0 row2\" >Other / Non-Disclosed</th> \n",
       "        <td id=\"T_63b19798_6bb5_11e8_92f5_a45e60d6c10frow2_col0\" class=\"data row2 col0\" >1.41%</td> \n",
       "        <td id=\"T_63b19798_6bb5_11e8_92f5_a45e60d6c10frow2_col1\" class=\"data row2 col1\" >11</td> \n",
       "    </tr></tbody> \n",
       "</table> "
      ],
      "text/plain": [
       "<pandas.io.formats.style.Styler at 0x114733dd8>"
      ]
     },
     "execution_count": 112,
     "metadata": {},
     "output_type": "execute_result"
    }
   ],
   "source": [
    "count = Pymoli_df.groupby(['Gender']).count()\n",
    "total = Pymoli_df['Gender'].count()\n",
    "percentage = count/total\n",
    "gender_data = {'Percentage': percentage['SN'],\n",
    "          'Total Players': count['SN']}\n",
    "gender_analysis = pd.DataFrame(gender_data).style.format({'Percentage': '{:.2%}'})\n",
    "gender_analysis"
   ]
  },
  {
   "cell_type": "code",
   "execution_count": 118,
   "metadata": {},
   "outputs": [
    {
     "data": {
      "text/html": [
       "<style  type=\"text/css\" >\n",
       "</style>  \n",
       "<table id=\"T_2b751b86_6bb8_11e8_9681_a45e60d6c10f\" > \n",
       "<thead>    <tr> \n",
       "        <th class=\"blank level0\" ></th> \n",
       "        <th class=\"col_heading level0 col0\" >Average Purchase Price</th> \n",
       "        <th class=\"col_heading level0 col1\" >Purchase Count</th> \n",
       "        <th class=\"col_heading level0 col2\" >Total Purchase Value</th> \n",
       "    </tr>    <tr> \n",
       "        <th class=\"index_name level0\" >Gender</th> \n",
       "        <th class=\"blank\" ></th> \n",
       "        <th class=\"blank\" ></th> \n",
       "        <th class=\"blank\" ></th> \n",
       "    </tr></thead> \n",
       "<tbody>    <tr> \n",
       "        <th id=\"T_2b751b86_6bb8_11e8_9681_a45e60d6c10flevel0_row0\" class=\"row_heading level0 row0\" >Female</th> \n",
       "        <td id=\"T_2b751b86_6bb8_11e8_9681_a45e60d6c10frow0_col0\" class=\"data row0 col0\" >$2.82</td> \n",
       "        <td id=\"T_2b751b86_6bb8_11e8_9681_a45e60d6c10frow0_col1\" class=\"data row0 col1\" >136</td> \n",
       "        <td id=\"T_2b751b86_6bb8_11e8_9681_a45e60d6c10frow0_col2\" class=\"data row0 col2\" >$382.91</td> \n",
       "    </tr>    <tr> \n",
       "        <th id=\"T_2b751b86_6bb8_11e8_9681_a45e60d6c10flevel0_row1\" class=\"row_heading level0 row1\" >Male</th> \n",
       "        <td id=\"T_2b751b86_6bb8_11e8_9681_a45e60d6c10frow1_col0\" class=\"data row1 col0\" >$2.95</td> \n",
       "        <td id=\"T_2b751b86_6bb8_11e8_9681_a45e60d6c10frow1_col1\" class=\"data row1 col1\" >633</td> \n",
       "        <td id=\"T_2b751b86_6bb8_11e8_9681_a45e60d6c10frow1_col2\" class=\"data row1 col2\" >$1867.68</td> \n",
       "    </tr>    <tr> \n",
       "        <th id=\"T_2b751b86_6bb8_11e8_9681_a45e60d6c10flevel0_row2\" class=\"row_heading level0 row2\" >Other / Non-Disclosed</th> \n",
       "        <td id=\"T_2b751b86_6bb8_11e8_9681_a45e60d6c10frow2_col0\" class=\"data row2 col0\" >$3.25</td> \n",
       "        <td id=\"T_2b751b86_6bb8_11e8_9681_a45e60d6c10frow2_col1\" class=\"data row2 col1\" >11</td> \n",
       "        <td id=\"T_2b751b86_6bb8_11e8_9681_a45e60d6c10frow2_col2\" class=\"data row2 col2\" >$35.74</td> \n",
       "    </tr></tbody> \n",
       "</table> "
      ],
      "text/plain": [
       "<pandas.io.formats.style.Styler at 0x11473f908>"
      ]
     },
     "execution_count": 118,
     "metadata": {},
     "output_type": "execute_result"
    }
   ],
   "source": [
    "#Purchase Analysis by gender \n",
    "count = Pymoli_df.groupby(['Gender']).count()\n",
    "average = Pymoli_df.groupby(['Gender']).mean()\n",
    "total = Pymoli_df.groupby(['Gender']).sum()\n",
    "\n",
    "genderpurchase_data= {'Purchase Count': count['Price'],\n",
    "           'Average Purchase Price': average['Price'],\n",
    "           'Total Purchase Value': total['Price']}\n",
    "\n",
    "purchase_analysis = pd.DataFrame(genderpurchase_data).style.format({'Average Purchase Price': currency, 'Total Purchase Value': currency})\n",
    "purchase_analysis"
   ]
  },
  {
   "cell_type": "code",
   "execution_count": 134,
   "metadata": {},
   "outputs": [
    {
     "data": {
      "text/plain": [
       "45"
      ]
     },
     "execution_count": 134,
     "metadata": {},
     "output_type": "execute_result"
    }
   ],
   "source": [
    "Pymoli_df['Age'].max()"
   ]
  },
  {
   "cell_type": "code",
   "execution_count": 135,
   "metadata": {},
   "outputs": [
    {
     "data": {
      "text/plain": [
       "7"
      ]
     },
     "execution_count": 135,
     "metadata": {},
     "output_type": "execute_result"
    }
   ],
   "source": [
    "Pymoli_df['Age'].min()"
   ]
  },
  {
   "cell_type": "code",
   "execution_count": 182,
   "metadata": {},
   "outputs": [
    {
     "data": {
      "text/html": [
       "<style  type=\"text/css\" >\n",
       "</style>  \n",
       "<table id=\"T_b5b3aa52_6bc1_11e8_9e5a_a45e60d6c10f\" > \n",
       "<thead>    <tr> \n",
       "        <th class=\"blank level0\" ></th> \n",
       "        <th class=\"col_heading level0 col0\" >Average Purchase Price</th> \n",
       "        <th class=\"col_heading level0 col1\" >Purchase Count</th> \n",
       "        <th class=\"col_heading level0 col2\" >Total Purchase Value</th> \n",
       "    </tr>    <tr> \n",
       "        <th class=\"index_name level0\" >Age</th> \n",
       "        <th class=\"blank\" ></th> \n",
       "        <th class=\"blank\" ></th> \n",
       "        <th class=\"blank\" ></th> \n",
       "    </tr></thead> \n",
       "<tbody>    <tr> \n",
       "        <th id=\"T_b5b3aa52_6bc1_11e8_9e5a_a45e60d6c10flevel0_row0\" class=\"row_heading level0 row0\" ><10</th> \n",
       "        <td id=\"T_b5b3aa52_6bc1_11e8_9e5a_a45e60d6c10frow0_col0\" class=\"data row0 col0\" >$3.02</td> \n",
       "        <td id=\"T_b5b3aa52_6bc1_11e8_9e5a_a45e60d6c10frow0_col1\" class=\"data row0 col1\" >32</td> \n",
       "        <td id=\"T_b5b3aa52_6bc1_11e8_9e5a_a45e60d6c10frow0_col2\" class=\"data row0 col2\" >$96.62</td> \n",
       "    </tr>    <tr> \n",
       "        <th id=\"T_b5b3aa52_6bc1_11e8_9e5a_a45e60d6c10flevel0_row1\" class=\"row_heading level0 row1\" >10-14</th> \n",
       "        <td id=\"T_b5b3aa52_6bc1_11e8_9e5a_a45e60d6c10frow1_col0\" class=\"data row1 col0\" >$2.87</td> \n",
       "        <td id=\"T_b5b3aa52_6bc1_11e8_9e5a_a45e60d6c10frow1_col1\" class=\"data row1 col1\" >78</td> \n",
       "        <td id=\"T_b5b3aa52_6bc1_11e8_9e5a_a45e60d6c10frow1_col2\" class=\"data row1 col2\" >$224.15</td> \n",
       "    </tr>    <tr> \n",
       "        <th id=\"T_b5b3aa52_6bc1_11e8_9e5a_a45e60d6c10flevel0_row2\" class=\"row_heading level0 row2\" >15-19</th> \n",
       "        <td id=\"T_b5b3aa52_6bc1_11e8_9e5a_a45e60d6c10frow2_col0\" class=\"data row2 col0\" >$2.87</td> \n",
       "        <td id=\"T_b5b3aa52_6bc1_11e8_9e5a_a45e60d6c10frow2_col1\" class=\"data row2 col1\" >184</td> \n",
       "        <td id=\"T_b5b3aa52_6bc1_11e8_9e5a_a45e60d6c10frow2_col2\" class=\"data row2 col2\" >$528.74</td> \n",
       "    </tr>    <tr> \n",
       "        <th id=\"T_b5b3aa52_6bc1_11e8_9e5a_a45e60d6c10flevel0_row3\" class=\"row_heading level0 row3\" >20-24</th> \n",
       "        <td id=\"T_b5b3aa52_6bc1_11e8_9e5a_a45e60d6c10frow3_col0\" class=\"data row3 col0\" >$2.96</td> \n",
       "        <td id=\"T_b5b3aa52_6bc1_11e8_9e5a_a45e60d6c10frow3_col1\" class=\"data row3 col1\" >305</td> \n",
       "        <td id=\"T_b5b3aa52_6bc1_11e8_9e5a_a45e60d6c10frow3_col2\" class=\"data row3 col2\" >$902.61</td> \n",
       "    </tr>    <tr> \n",
       "        <th id=\"T_b5b3aa52_6bc1_11e8_9e5a_a45e60d6c10flevel0_row4\" class=\"row_heading level0 row4\" >25-29</th> \n",
       "        <td id=\"T_b5b3aa52_6bc1_11e8_9e5a_a45e60d6c10frow4_col0\" class=\"data row4 col0\" >$2.89</td> \n",
       "        <td id=\"T_b5b3aa52_6bc1_11e8_9e5a_a45e60d6c10frow4_col1\" class=\"data row4 col1\" >76</td> \n",
       "        <td id=\"T_b5b3aa52_6bc1_11e8_9e5a_a45e60d6c10frow4_col2\" class=\"data row4 col2\" >$219.82</td> \n",
       "    </tr>    <tr> \n",
       "        <th id=\"T_b5b3aa52_6bc1_11e8_9e5a_a45e60d6c10flevel0_row5\" class=\"row_heading level0 row5\" >30-34</th> \n",
       "        <td id=\"T_b5b3aa52_6bc1_11e8_9e5a_a45e60d6c10frow5_col0\" class=\"data row5 col0\" >$3.07</td> \n",
       "        <td id=\"T_b5b3aa52_6bc1_11e8_9e5a_a45e60d6c10frow5_col1\" class=\"data row5 col1\" >58</td> \n",
       "        <td id=\"T_b5b3aa52_6bc1_11e8_9e5a_a45e60d6c10frow5_col2\" class=\"data row5 col2\" >$178.26</td> \n",
       "    </tr>    <tr> \n",
       "        <th id=\"T_b5b3aa52_6bc1_11e8_9e5a_a45e60d6c10flevel0_row6\" class=\"row_heading level0 row6\" >35-39</th> \n",
       "        <td id=\"T_b5b3aa52_6bc1_11e8_9e5a_a45e60d6c10frow6_col0\" class=\"data row6 col0\" >$2.90</td> \n",
       "        <td id=\"T_b5b3aa52_6bc1_11e8_9e5a_a45e60d6c10frow6_col1\" class=\"data row6 col1\" >44</td> \n",
       "        <td id=\"T_b5b3aa52_6bc1_11e8_9e5a_a45e60d6c10frow6_col2\" class=\"data row6 col2\" >$127.49</td> \n",
       "    </tr>    <tr> \n",
       "        <th id=\"T_b5b3aa52_6bc1_11e8_9e5a_a45e60d6c10flevel0_row7\" class=\"row_heading level0 row7\" >>40</th> \n",
       "        <td id=\"T_b5b3aa52_6bc1_11e8_9e5a_a45e60d6c10frow7_col0\" class=\"data row7 col0\" >$2.88</td> \n",
       "        <td id=\"T_b5b3aa52_6bc1_11e8_9e5a_a45e60d6c10frow7_col1\" class=\"data row7 col1\" >3</td> \n",
       "        <td id=\"T_b5b3aa52_6bc1_11e8_9e5a_a45e60d6c10frow7_col2\" class=\"data row7 col2\" >$8.64</td> \n",
       "    </tr></tbody> \n",
       "</table> "
      ],
      "text/plain": [
       "<pandas.io.formats.style.Styler at 0x11477cc18>"
      ]
     },
     "execution_count": 182,
     "metadata": {},
     "output_type": "execute_result"
    }
   ],
   "source": [
    "#4-year bins \n",
    "bins=([0, 10, 15, 20, 25, 30, 35, 40, 45])\n",
    "group_names= [\"<10\",\"10-14\",\"15-19\",\"20-24\",\"25-29\",\"30-34\",\"35-39\",\"40+\"]\n",
    "\n",
    "df= Pymoli_df.groupby(pd.cut(Pymoli_df[\"Age\"], bins, labels = group_names))\n",
    "count= Pymoli_df.groupby(pd.cut(Pymoli_df[\"Age\"], bins, labels = group_names)).count()\n",
    "average= Pymoli_df.groupby(pd.cut(Pymoli_df[\"Age\"], bins, labels = group_names)).mean()\n",
    "total= Pymoli_df.groupby((pd.cut(Pymoli_df[\"Age\"], bins, labels = group_names))).sum()\n",
    "\n",
    "agedemo_data= {'Purchase Count': count['Price'],\n",
    "           'Average Purchase Price': average['Price'],\n",
    "           'Total Purchase Value': total['Price']}\n",
    "purchase_analysis = pd.DataFrame(agedemo_data).rename(index={'0-10':'<10','10-14':'10-14','15-19':'15-19','20-24':'20-24','25-29':'25-29','30-34':'30-34','35-39':'35-39','40+':'>40'}).style.format({'Average Purchase Price': currency, 'Total Purchase Value': currency})\n",
    "purchase_analysis"
   ]
  },
  {
   "cell_type": "code",
   "execution_count": 186,
   "metadata": {},
   "outputs": [
    {
     "data": {
      "text/html": [
       "<style  type=\"text/css\" >\n",
       "</style>  \n",
       "<table id=\"T_42440114_6bc3_11e8_a660_a45e60d6c10f\" > \n",
       "<thead>    <tr> \n",
       "        <th class=\"blank level0\" ></th> \n",
       "        <th class=\"col_heading level0 col0\" >Average Purchase Price</th> \n",
       "        <th class=\"col_heading level0 col1\" >Purchase Count</th> \n",
       "        <th class=\"col_heading level0 col2\" >Total Purchase Value</th> \n",
       "    </tr>    <tr> \n",
       "        <th class=\"index_name level0\" >SN</th> \n",
       "        <th class=\"blank\" ></th> \n",
       "        <th class=\"blank\" ></th> \n",
       "        <th class=\"blank\" ></th> \n",
       "    </tr></thead> \n",
       "<tbody>    <tr> \n",
       "        <th id=\"T_42440114_6bc3_11e8_a660_a45e60d6c10flevel0_row0\" class=\"row_heading level0 row0\" >Undirrala66</th> \n",
       "        <td id=\"T_42440114_6bc3_11e8_a660_a45e60d6c10frow0_col0\" class=\"data row0 col0\" >$3.41</td> \n",
       "        <td id=\"T_42440114_6bc3_11e8_a660_a45e60d6c10frow0_col1\" class=\"data row0 col1\" >5</td> \n",
       "        <td id=\"T_42440114_6bc3_11e8_a660_a45e60d6c10frow0_col2\" class=\"data row0 col2\" >$17.06</td> \n",
       "    </tr>    <tr> \n",
       "        <th id=\"T_42440114_6bc3_11e8_a660_a45e60d6c10flevel0_row1\" class=\"row_heading level0 row1\" >Saedue76</th> \n",
       "        <td id=\"T_42440114_6bc3_11e8_a660_a45e60d6c10frow1_col0\" class=\"data row1 col0\" >$3.39</td> \n",
       "        <td id=\"T_42440114_6bc3_11e8_a660_a45e60d6c10frow1_col1\" class=\"data row1 col1\" >4</td> \n",
       "        <td id=\"T_42440114_6bc3_11e8_a660_a45e60d6c10frow1_col2\" class=\"data row1 col2\" >$13.56</td> \n",
       "    </tr>    <tr> \n",
       "        <th id=\"T_42440114_6bc3_11e8_a660_a45e60d6c10flevel0_row2\" class=\"row_heading level0 row2\" >Mindimnya67</th> \n",
       "        <td id=\"T_42440114_6bc3_11e8_a660_a45e60d6c10frow2_col0\" class=\"data row2 col0\" >$3.18</td> \n",
       "        <td id=\"T_42440114_6bc3_11e8_a660_a45e60d6c10frow2_col1\" class=\"data row2 col1\" >4</td> \n",
       "        <td id=\"T_42440114_6bc3_11e8_a660_a45e60d6c10frow2_col2\" class=\"data row2 col2\" >$12.74</td> \n",
       "    </tr>    <tr> \n",
       "        <th id=\"T_42440114_6bc3_11e8_a660_a45e60d6c10flevel0_row3\" class=\"row_heading level0 row3\" >Haellysu29</th> \n",
       "        <td id=\"T_42440114_6bc3_11e8_a660_a45e60d6c10frow3_col0\" class=\"data row3 col0\" >$4.24</td> \n",
       "        <td id=\"T_42440114_6bc3_11e8_a660_a45e60d6c10frow3_col1\" class=\"data row3 col1\" >3</td> \n",
       "        <td id=\"T_42440114_6bc3_11e8_a660_a45e60d6c10frow3_col2\" class=\"data row3 col2\" >$12.73</td> \n",
       "    </tr>    <tr> \n",
       "        <th id=\"T_42440114_6bc3_11e8_a660_a45e60d6c10flevel0_row4\" class=\"row_heading level0 row4\" >Eoda93</th> \n",
       "        <td id=\"T_42440114_6bc3_11e8_a660_a45e60d6c10frow4_col0\" class=\"data row4 col0\" >$3.86</td> \n",
       "        <td id=\"T_42440114_6bc3_11e8_a660_a45e60d6c10frow4_col1\" class=\"data row4 col1\" >3</td> \n",
       "        <td id=\"T_42440114_6bc3_11e8_a660_a45e60d6c10frow4_col2\" class=\"data row4 col2\" >$11.58</td> \n",
       "    </tr></tbody> \n",
       "</table> "
      ],
      "text/plain": [
       "<pandas.io.formats.style.Styler at 0x114786208>"
      ]
     },
     "execution_count": 186,
     "metadata": {},
     "output_type": "execute_result"
    }
   ],
   "source": [
    "#Top 5 Spenders \n",
    "count = Pymoli_df.groupby(['SN']).count()\n",
    "average = Pymoli_df.groupby(['SN']).mean()\n",
    "total = Pymoli_df.groupby(['SN']).sum()\n",
    "\n",
    "topspender_data= {'Purchase Count': count['Price'],\n",
    "           'Average Purchase Price': average['Price'],\n",
    "           'Total Purchase Value': total['Price']}\n",
    "purchase_analysis = pd.DataFrame(topspender_data).sort_values('Total Purchase Value', ascending=False).head(5).style.format({'Average Purchase Price': currency, 'Total Purchase Value': currency})\n",
    "purchase_analysis\n"
   ]
  },
  {
   "cell_type": "code",
   "execution_count": 188,
   "metadata": {},
   "outputs": [
    {
     "data": {
      "text/html": [
       "<style  type=\"text/css\" >\n",
       "</style>  \n",
       "<table id=\"T_8a779b0c_6bc4_11e8_858c_a45e60d6c10f\" > \n",
       "<thead>    <tr> \n",
       "        <th class=\"blank\" ></th> \n",
       "        <th class=\"blank level0\" ></th> \n",
       "        <th class=\"col_heading level0 col0\" >Average Purchase Price</th> \n",
       "        <th class=\"col_heading level0 col1\" >Purchase Count</th> \n",
       "        <th class=\"col_heading level0 col2\" >Total Purchase Value</th> \n",
       "    </tr>    <tr> \n",
       "        <th class=\"index_name level0\" >Item ID</th> \n",
       "        <th class=\"index_name level1\" >Item Name</th> \n",
       "        <th class=\"blank\" ></th> \n",
       "        <th class=\"blank\" ></th> \n",
       "        <th class=\"blank\" ></th> \n",
       "    </tr></thead> \n",
       "<tbody>    <tr> \n",
       "        <th id=\"T_8a779b0c_6bc4_11e8_858c_a45e60d6c10flevel0_row0\" class=\"row_heading level0 row0\" >39</th> \n",
       "        <th id=\"T_8a779b0c_6bc4_11e8_858c_a45e60d6c10flevel1_row0\" class=\"row_heading level1 row0\" >Betrayal, Whisper of Grieving Widows</th> \n",
       "        <td id=\"T_8a779b0c_6bc4_11e8_858c_a45e60d6c10frow0_col0\" class=\"data row0 col0\" >$2.35</td> \n",
       "        <td id=\"T_8a779b0c_6bc4_11e8_858c_a45e60d6c10frow0_col1\" class=\"data row0 col1\" >11</td> \n",
       "        <td id=\"T_8a779b0c_6bc4_11e8_858c_a45e60d6c10frow0_col2\" class=\"data row0 col2\" >$25.85</td> \n",
       "    </tr>    <tr> \n",
       "        <th id=\"T_8a779b0c_6bc4_11e8_858c_a45e60d6c10flevel0_row1\" class=\"row_heading level0 row1\" >84</th> \n",
       "        <th id=\"T_8a779b0c_6bc4_11e8_858c_a45e60d6c10flevel1_row1\" class=\"row_heading level1 row1\" >Arcane Gem</th> \n",
       "        <td id=\"T_8a779b0c_6bc4_11e8_858c_a45e60d6c10frow1_col0\" class=\"data row1 col0\" >$2.23</td> \n",
       "        <td id=\"T_8a779b0c_6bc4_11e8_858c_a45e60d6c10frow1_col1\" class=\"data row1 col1\" >11</td> \n",
       "        <td id=\"T_8a779b0c_6bc4_11e8_858c_a45e60d6c10frow1_col2\" class=\"data row1 col2\" >$24.53</td> \n",
       "    </tr>    <tr> \n",
       "        <th id=\"T_8a779b0c_6bc4_11e8_858c_a45e60d6c10flevel0_row2\" class=\"row_heading level0 row2\" >31</th> \n",
       "        <th id=\"T_8a779b0c_6bc4_11e8_858c_a45e60d6c10flevel1_row2\" class=\"row_heading level1 row2\" >Trickster</th> \n",
       "        <td id=\"T_8a779b0c_6bc4_11e8_858c_a45e60d6c10frow2_col0\" class=\"data row2 col0\" >$2.07</td> \n",
       "        <td id=\"T_8a779b0c_6bc4_11e8_858c_a45e60d6c10frow2_col1\" class=\"data row2 col1\" >9</td> \n",
       "        <td id=\"T_8a779b0c_6bc4_11e8_858c_a45e60d6c10frow2_col2\" class=\"data row2 col2\" >$18.63</td> \n",
       "    </tr>    <tr> \n",
       "        <th id=\"T_8a779b0c_6bc4_11e8_858c_a45e60d6c10flevel0_row3\" class=\"row_heading level0 row3\" >175</th> \n",
       "        <th id=\"T_8a779b0c_6bc4_11e8_858c_a45e60d6c10flevel1_row3\" class=\"row_heading level1 row3\" >Woeful Adamantite Claymore</th> \n",
       "        <td id=\"T_8a779b0c_6bc4_11e8_858c_a45e60d6c10frow3_col0\" class=\"data row3 col0\" >$1.24</td> \n",
       "        <td id=\"T_8a779b0c_6bc4_11e8_858c_a45e60d6c10frow3_col1\" class=\"data row3 col1\" >9</td> \n",
       "        <td id=\"T_8a779b0c_6bc4_11e8_858c_a45e60d6c10frow3_col2\" class=\"data row3 col2\" >$11.16</td> \n",
       "    </tr>    <tr> \n",
       "        <th id=\"T_8a779b0c_6bc4_11e8_858c_a45e60d6c10flevel0_row4\" class=\"row_heading level0 row4\" >13</th> \n",
       "        <th id=\"T_8a779b0c_6bc4_11e8_858c_a45e60d6c10flevel1_row4\" class=\"row_heading level1 row4\" >Serenity</th> \n",
       "        <td id=\"T_8a779b0c_6bc4_11e8_858c_a45e60d6c10frow4_col0\" class=\"data row4 col0\" >$1.49</td> \n",
       "        <td id=\"T_8a779b0c_6bc4_11e8_858c_a45e60d6c10frow4_col1\" class=\"data row4 col1\" >9</td> \n",
       "        <td id=\"T_8a779b0c_6bc4_11e8_858c_a45e60d6c10frow4_col2\" class=\"data row4 col2\" >$13.41</td> \n",
       "    </tr></tbody> \n",
       "</table> "
      ],
      "text/plain": [
       "<pandas.io.formats.style.Styler at 0x114773c18>"
      ]
     },
     "execution_count": 188,
     "metadata": {},
     "output_type": "execute_result"
    }
   ],
   "source": [
    "#Most Popular Item\n",
    "count = Pymoli_df.groupby(['Item ID','Item Name']).count()\n",
    "average = Pymoli_df.groupby(['Item ID','Item Name']).mean()\n",
    "total = Pymoli_df.groupby(['Item ID','Item Name']).sum()\n",
    "\n",
    "topitem_data= {'Purchase Count': count['Price'],\n",
    "           'Average Purchase Price': average['Price'],\n",
    "           'Total Purchase Value': total['Price']}\n",
    "\n",
    "purchase_analysis = pd.DataFrame(topitem_data).sort_values('Purchase Count', ascending=False).head(5).style.format({'Average Purchase Price': currency, 'Total Purchase Value': currency})\n",
    "purchase_analysis"
   ]
  },
  {
   "cell_type": "code",
   "execution_count": 189,
   "metadata": {},
   "outputs": [
    {
     "data": {
      "text/html": [
       "<style  type=\"text/css\" >\n",
       "</style>  \n",
       "<table id=\"T_a83144e2_6bc4_11e8_99cb_a45e60d6c10f\" > \n",
       "<thead>    <tr> \n",
       "        <th class=\"blank\" ></th> \n",
       "        <th class=\"blank level0\" ></th> \n",
       "        <th class=\"col_heading level0 col0\" >Average Purchase Price</th> \n",
       "        <th class=\"col_heading level0 col1\" >Purchase Count</th> \n",
       "        <th class=\"col_heading level0 col2\" >Total Purchase Value</th> \n",
       "    </tr>    <tr> \n",
       "        <th class=\"index_name level0\" >Item ID</th> \n",
       "        <th class=\"index_name level1\" >Item Name</th> \n",
       "        <th class=\"blank\" ></th> \n",
       "        <th class=\"blank\" ></th> \n",
       "        <th class=\"blank\" ></th> \n",
       "    </tr></thead> \n",
       "<tbody>    <tr> \n",
       "        <th id=\"T_a83144e2_6bc4_11e8_99cb_a45e60d6c10flevel0_row0\" class=\"row_heading level0 row0\" >34</th> \n",
       "        <th id=\"T_a83144e2_6bc4_11e8_99cb_a45e60d6c10flevel1_row0\" class=\"row_heading level1 row0\" >Retribution Axe</th> \n",
       "        <td id=\"T_a83144e2_6bc4_11e8_99cb_a45e60d6c10frow0_col0\" class=\"data row0 col0\" >$4.14</td> \n",
       "        <td id=\"T_a83144e2_6bc4_11e8_99cb_a45e60d6c10frow0_col1\" class=\"data row0 col1\" >9</td> \n",
       "        <td id=\"T_a83144e2_6bc4_11e8_99cb_a45e60d6c10frow0_col2\" class=\"data row0 col2\" >$37.26</td> \n",
       "    </tr>    <tr> \n",
       "        <th id=\"T_a83144e2_6bc4_11e8_99cb_a45e60d6c10flevel0_row1\" class=\"row_heading level0 row1\" >115</th> \n",
       "        <th id=\"T_a83144e2_6bc4_11e8_99cb_a45e60d6c10flevel1_row1\" class=\"row_heading level1 row1\" >Spectral Diamond Doomblade</th> \n",
       "        <td id=\"T_a83144e2_6bc4_11e8_99cb_a45e60d6c10frow1_col0\" class=\"data row1 col0\" >$4.25</td> \n",
       "        <td id=\"T_a83144e2_6bc4_11e8_99cb_a45e60d6c10frow1_col1\" class=\"data row1 col1\" >7</td> \n",
       "        <td id=\"T_a83144e2_6bc4_11e8_99cb_a45e60d6c10frow1_col2\" class=\"data row1 col2\" >$29.75</td> \n",
       "    </tr>    <tr> \n",
       "        <th id=\"T_a83144e2_6bc4_11e8_99cb_a45e60d6c10flevel0_row2\" class=\"row_heading level0 row2\" >32</th> \n",
       "        <th id=\"T_a83144e2_6bc4_11e8_99cb_a45e60d6c10flevel1_row2\" class=\"row_heading level1 row2\" >Orenmir</th> \n",
       "        <td id=\"T_a83144e2_6bc4_11e8_99cb_a45e60d6c10frow2_col0\" class=\"data row2 col0\" >$4.95</td> \n",
       "        <td id=\"T_a83144e2_6bc4_11e8_99cb_a45e60d6c10frow2_col1\" class=\"data row2 col1\" >6</td> \n",
       "        <td id=\"T_a83144e2_6bc4_11e8_99cb_a45e60d6c10frow2_col2\" class=\"data row2 col2\" >$29.70</td> \n",
       "    </tr>    <tr> \n",
       "        <th id=\"T_a83144e2_6bc4_11e8_99cb_a45e60d6c10flevel0_row3\" class=\"row_heading level0 row3\" >103</th> \n",
       "        <th id=\"T_a83144e2_6bc4_11e8_99cb_a45e60d6c10flevel1_row3\" class=\"row_heading level1 row3\" >Singed Scalpel</th> \n",
       "        <td id=\"T_a83144e2_6bc4_11e8_99cb_a45e60d6c10frow3_col0\" class=\"data row3 col0\" >$4.87</td> \n",
       "        <td id=\"T_a83144e2_6bc4_11e8_99cb_a45e60d6c10frow3_col1\" class=\"data row3 col1\" >6</td> \n",
       "        <td id=\"T_a83144e2_6bc4_11e8_99cb_a45e60d6c10frow3_col2\" class=\"data row3 col2\" >$29.22</td> \n",
       "    </tr>    <tr> \n",
       "        <th id=\"T_a83144e2_6bc4_11e8_99cb_a45e60d6c10flevel0_row4\" class=\"row_heading level0 row4\" >107</th> \n",
       "        <th id=\"T_a83144e2_6bc4_11e8_99cb_a45e60d6c10flevel1_row4\" class=\"row_heading level1 row4\" >Splitter, Foe Of Subtlety</th> \n",
       "        <td id=\"T_a83144e2_6bc4_11e8_99cb_a45e60d6c10frow4_col0\" class=\"data row4 col0\" >$3.61</td> \n",
       "        <td id=\"T_a83144e2_6bc4_11e8_99cb_a45e60d6c10frow4_col1\" class=\"data row4 col1\" >8</td> \n",
       "        <td id=\"T_a83144e2_6bc4_11e8_99cb_a45e60d6c10frow4_col2\" class=\"data row4 col2\" >$28.88</td> \n",
       "    </tr></tbody> \n",
       "</table> "
      ],
      "text/plain": [
       "<pandas.io.formats.style.Styler at 0x1147861d0>"
      ]
     },
     "execution_count": 189,
     "metadata": {},
     "output_type": "execute_result"
    }
   ],
   "source": [
    "#Most Profitable Item\n",
    "purchase_analysis = pd.DataFrame(topitem_data).sort_values('Total Purchase Value', ascending=False).head(5).style.format({'Average Purchase Price': currency, 'Total Purchase Value': currency})\n",
    "purchase_analysis"
   ]
  },
  {
   "cell_type": "code",
   "execution_count": null,
   "metadata": {},
   "outputs": [],
   "source": []
  }
 ],
 "metadata": {
  "kernelspec": {
   "display_name": "Python 3",
   "language": "python",
   "name": "python3"
  },
  "language_info": {
   "codemirror_mode": {
    "name": "ipython",
    "version": 3
   },
   "file_extension": ".py",
   "mimetype": "text/x-python",
   "name": "python",
   "nbconvert_exporter": "python",
   "pygments_lexer": "ipython3",
   "version": "3.6.4"
  }
 },
 "nbformat": 4,
 "nbformat_minor": 2
}
